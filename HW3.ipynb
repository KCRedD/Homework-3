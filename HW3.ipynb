{
  "nbformat": 4,
  "nbformat_minor": 0,
  "metadata": {
    "colab": {
      "provenance": []
    },
    "kernelspec": {
      "name": "python3",
      "display_name": "Python 3"
    },
    "language_info": {
      "name": "python"
    }
  },
  "cells": [
    {
      "cell_type": "code",
      "execution_count": 105,
      "metadata": {
        "id": "81-D4tBZYjSX"
      },
      "outputs": [],
      "source": [
        "#some packages and modules that I will use. \n",
        "\n",
        "# for basic operations\n",
        "import numpy as np \n",
        "import pandas as pd \n",
        "\n",
        "# for visualizations\n",
        "import matplotlib.pyplot as plt\n",
        "import seaborn as sns\n",
        "\n",
        "# for modeling \n",
        "from sklearn.metrics import confusion_matrix\n",
        "from sklearn.model_selection import GridSearchCV\n",
        "from sklearn.model_selection import train_test_split\n",
        "from sklearn.preprocessing import StandardScaler\n",
        "from sklearn.ensemble import RandomForestClassifier\n",
        "from sklearn.linear_model import LogisticRegression\n",
        "from sklearn.metrics import classification_report, confusion_matrix\n",
        "from sklearn.pipeline import Pipeline\n",
        "from sklearn.decomposition import PCA\n",
        "import plotly\n",
        "import plotly.express as px\n",
        "\n",
        "from imblearn.over_sampling import SMOTE\n",
        "\n",
        "# to avoid warnings\n",
        "import warnings\n",
        "warnings.filterwarnings(\"ignore\", category=DeprecationWarning)"
      ]
    },
    {
      "cell_type": "markdown",
      "source": [
        "## LOADING THE DATA"
      ],
      "metadata": {
        "id": "5XxwozXSQ7Ev"
      }
    },
    {
      "cell_type": "code",
      "source": [
        "df = pd.read_csv(\"/content/drive/MyDrive/HW3/uci-secom.csv\")"
      ],
      "metadata": {
        "id": "kGSJnnUcbx8u"
      },
      "execution_count": 51,
      "outputs": []
    },
    {
      "cell_type": "code",
      "source": [
        "df.head()"
      ],
      "metadata": {
        "colab": {
          "base_uri": "https://localhost:8080/",
          "height": 467
        },
        "id": "iKYLbEfaetH5",
        "outputId": "2f6b4208-3d99-4ac5-cee7-4e85db308a1b"
      },
      "execution_count": 52,
      "outputs": [
        {
          "output_type": "execute_result",
          "data": {
            "text/plain": [
              "                  Time        0        1          2          3       4      5  \\\n",
              "0  2008-07-19 11:55:00  3030.93  2564.00  2187.7333  1411.1265  1.3602  100.0   \n",
              "1  2008-07-19 12:32:00  3095.78  2465.14  2230.4222  1463.6606  0.8294  100.0   \n",
              "2  2008-07-19 13:17:00  2932.61  2559.94  2186.4111  1698.0172  1.5102  100.0   \n",
              "3  2008-07-19 14:43:00  2988.72  2479.90  2199.0333   909.7926  1.3204  100.0   \n",
              "4  2008-07-19 15:22:00  3032.24  2502.87  2233.3667  1326.5200  1.5334  100.0   \n",
              "\n",
              "          6       7       8  ...       581     582     583     584      585  \\\n",
              "0   97.6133  0.1242  1.5005  ...       NaN  0.5005  0.0118  0.0035   2.3630   \n",
              "1  102.3433  0.1247  1.4966  ...  208.2045  0.5019  0.0223  0.0055   4.4447   \n",
              "2   95.4878  0.1241  1.4436  ...   82.8602  0.4958  0.0157  0.0039   3.1745   \n",
              "3  104.2367  0.1217  1.4882  ...   73.8432  0.4990  0.0103  0.0025   2.0544   \n",
              "4  100.3967  0.1235  1.5031  ...       NaN  0.4800  0.4766  0.1045  99.3032   \n",
              "\n",
              "      586     587     588       589  Pass/Fail  \n",
              "0     NaN     NaN     NaN       NaN         -1  \n",
              "1  0.0096  0.0201  0.0060  208.2045         -1  \n",
              "2  0.0584  0.0484  0.0148   82.8602          1  \n",
              "3  0.0202  0.0149  0.0044   73.8432         -1  \n",
              "4  0.0202  0.0149  0.0044   73.8432         -1  \n",
              "\n",
              "[5 rows x 592 columns]"
            ],
            "text/html": [
              "\n",
              "  <div id=\"df-de2ccec9-471f-4ee9-b622-9b0e3702c4e7\">\n",
              "    <div class=\"colab-df-container\">\n",
              "      <div>\n",
              "<style scoped>\n",
              "    .dataframe tbody tr th:only-of-type {\n",
              "        vertical-align: middle;\n",
              "    }\n",
              "\n",
              "    .dataframe tbody tr th {\n",
              "        vertical-align: top;\n",
              "    }\n",
              "\n",
              "    .dataframe thead th {\n",
              "        text-align: right;\n",
              "    }\n",
              "</style>\n",
              "<table border=\"1\" class=\"dataframe\">\n",
              "  <thead>\n",
              "    <tr style=\"text-align: right;\">\n",
              "      <th></th>\n",
              "      <th>Time</th>\n",
              "      <th>0</th>\n",
              "      <th>1</th>\n",
              "      <th>2</th>\n",
              "      <th>3</th>\n",
              "      <th>4</th>\n",
              "      <th>5</th>\n",
              "      <th>6</th>\n",
              "      <th>7</th>\n",
              "      <th>8</th>\n",
              "      <th>...</th>\n",
              "      <th>581</th>\n",
              "      <th>582</th>\n",
              "      <th>583</th>\n",
              "      <th>584</th>\n",
              "      <th>585</th>\n",
              "      <th>586</th>\n",
              "      <th>587</th>\n",
              "      <th>588</th>\n",
              "      <th>589</th>\n",
              "      <th>Pass/Fail</th>\n",
              "    </tr>\n",
              "  </thead>\n",
              "  <tbody>\n",
              "    <tr>\n",
              "      <th>0</th>\n",
              "      <td>2008-07-19 11:55:00</td>\n",
              "      <td>3030.93</td>\n",
              "      <td>2564.00</td>\n",
              "      <td>2187.7333</td>\n",
              "      <td>1411.1265</td>\n",
              "      <td>1.3602</td>\n",
              "      <td>100.0</td>\n",
              "      <td>97.6133</td>\n",
              "      <td>0.1242</td>\n",
              "      <td>1.5005</td>\n",
              "      <td>...</td>\n",
              "      <td>NaN</td>\n",
              "      <td>0.5005</td>\n",
              "      <td>0.0118</td>\n",
              "      <td>0.0035</td>\n",
              "      <td>2.3630</td>\n",
              "      <td>NaN</td>\n",
              "      <td>NaN</td>\n",
              "      <td>NaN</td>\n",
              "      <td>NaN</td>\n",
              "      <td>-1</td>\n",
              "    </tr>\n",
              "    <tr>\n",
              "      <th>1</th>\n",
              "      <td>2008-07-19 12:32:00</td>\n",
              "      <td>3095.78</td>\n",
              "      <td>2465.14</td>\n",
              "      <td>2230.4222</td>\n",
              "      <td>1463.6606</td>\n",
              "      <td>0.8294</td>\n",
              "      <td>100.0</td>\n",
              "      <td>102.3433</td>\n",
              "      <td>0.1247</td>\n",
              "      <td>1.4966</td>\n",
              "      <td>...</td>\n",
              "      <td>208.2045</td>\n",
              "      <td>0.5019</td>\n",
              "      <td>0.0223</td>\n",
              "      <td>0.0055</td>\n",
              "      <td>4.4447</td>\n",
              "      <td>0.0096</td>\n",
              "      <td>0.0201</td>\n",
              "      <td>0.0060</td>\n",
              "      <td>208.2045</td>\n",
              "      <td>-1</td>\n",
              "    </tr>\n",
              "    <tr>\n",
              "      <th>2</th>\n",
              "      <td>2008-07-19 13:17:00</td>\n",
              "      <td>2932.61</td>\n",
              "      <td>2559.94</td>\n",
              "      <td>2186.4111</td>\n",
              "      <td>1698.0172</td>\n",
              "      <td>1.5102</td>\n",
              "      <td>100.0</td>\n",
              "      <td>95.4878</td>\n",
              "      <td>0.1241</td>\n",
              "      <td>1.4436</td>\n",
              "      <td>...</td>\n",
              "      <td>82.8602</td>\n",
              "      <td>0.4958</td>\n",
              "      <td>0.0157</td>\n",
              "      <td>0.0039</td>\n",
              "      <td>3.1745</td>\n",
              "      <td>0.0584</td>\n",
              "      <td>0.0484</td>\n",
              "      <td>0.0148</td>\n",
              "      <td>82.8602</td>\n",
              "      <td>1</td>\n",
              "    </tr>\n",
              "    <tr>\n",
              "      <th>3</th>\n",
              "      <td>2008-07-19 14:43:00</td>\n",
              "      <td>2988.72</td>\n",
              "      <td>2479.90</td>\n",
              "      <td>2199.0333</td>\n",
              "      <td>909.7926</td>\n",
              "      <td>1.3204</td>\n",
              "      <td>100.0</td>\n",
              "      <td>104.2367</td>\n",
              "      <td>0.1217</td>\n",
              "      <td>1.4882</td>\n",
              "      <td>...</td>\n",
              "      <td>73.8432</td>\n",
              "      <td>0.4990</td>\n",
              "      <td>0.0103</td>\n",
              "      <td>0.0025</td>\n",
              "      <td>2.0544</td>\n",
              "      <td>0.0202</td>\n",
              "      <td>0.0149</td>\n",
              "      <td>0.0044</td>\n",
              "      <td>73.8432</td>\n",
              "      <td>-1</td>\n",
              "    </tr>\n",
              "    <tr>\n",
              "      <th>4</th>\n",
              "      <td>2008-07-19 15:22:00</td>\n",
              "      <td>3032.24</td>\n",
              "      <td>2502.87</td>\n",
              "      <td>2233.3667</td>\n",
              "      <td>1326.5200</td>\n",
              "      <td>1.5334</td>\n",
              "      <td>100.0</td>\n",
              "      <td>100.3967</td>\n",
              "      <td>0.1235</td>\n",
              "      <td>1.5031</td>\n",
              "      <td>...</td>\n",
              "      <td>NaN</td>\n",
              "      <td>0.4800</td>\n",
              "      <td>0.4766</td>\n",
              "      <td>0.1045</td>\n",
              "      <td>99.3032</td>\n",
              "      <td>0.0202</td>\n",
              "      <td>0.0149</td>\n",
              "      <td>0.0044</td>\n",
              "      <td>73.8432</td>\n",
              "      <td>-1</td>\n",
              "    </tr>\n",
              "  </tbody>\n",
              "</table>\n",
              "<p>5 rows × 592 columns</p>\n",
              "</div>\n",
              "      <button class=\"colab-df-convert\" onclick=\"convertToInteractive('df-de2ccec9-471f-4ee9-b622-9b0e3702c4e7')\"\n",
              "              title=\"Convert this dataframe to an interactive table.\"\n",
              "              style=\"display:none;\">\n",
              "        \n",
              "  <svg xmlns=\"http://www.w3.org/2000/svg\" height=\"24px\"viewBox=\"0 0 24 24\"\n",
              "       width=\"24px\">\n",
              "    <path d=\"M0 0h24v24H0V0z\" fill=\"none\"/>\n",
              "    <path d=\"M18.56 5.44l.94 2.06.94-2.06 2.06-.94-2.06-.94-.94-2.06-.94 2.06-2.06.94zm-11 1L8.5 8.5l.94-2.06 2.06-.94-2.06-.94L8.5 2.5l-.94 2.06-2.06.94zm10 10l.94 2.06.94-2.06 2.06-.94-2.06-.94-.94-2.06-.94 2.06-2.06.94z\"/><path d=\"M17.41 7.96l-1.37-1.37c-.4-.4-.92-.59-1.43-.59-.52 0-1.04.2-1.43.59L10.3 9.45l-7.72 7.72c-.78.78-.78 2.05 0 2.83L4 21.41c.39.39.9.59 1.41.59.51 0 1.02-.2 1.41-.59l7.78-7.78 2.81-2.81c.8-.78.8-2.07 0-2.86zM5.41 20L4 18.59l7.72-7.72 1.47 1.35L5.41 20z\"/>\n",
              "  </svg>\n",
              "      </button>\n",
              "      \n",
              "  <style>\n",
              "    .colab-df-container {\n",
              "      display:flex;\n",
              "      flex-wrap:wrap;\n",
              "      gap: 12px;\n",
              "    }\n",
              "\n",
              "    .colab-df-convert {\n",
              "      background-color: #E8F0FE;\n",
              "      border: none;\n",
              "      border-radius: 50%;\n",
              "      cursor: pointer;\n",
              "      display: none;\n",
              "      fill: #1967D2;\n",
              "      height: 32px;\n",
              "      padding: 0 0 0 0;\n",
              "      width: 32px;\n",
              "    }\n",
              "\n",
              "    .colab-df-convert:hover {\n",
              "      background-color: #E2EBFA;\n",
              "      box-shadow: 0px 1px 2px rgba(60, 64, 67, 0.3), 0px 1px 3px 1px rgba(60, 64, 67, 0.15);\n",
              "      fill: #174EA6;\n",
              "    }\n",
              "\n",
              "    [theme=dark] .colab-df-convert {\n",
              "      background-color: #3B4455;\n",
              "      fill: #D2E3FC;\n",
              "    }\n",
              "\n",
              "    [theme=dark] .colab-df-convert:hover {\n",
              "      background-color: #434B5C;\n",
              "      box-shadow: 0px 1px 3px 1px rgba(0, 0, 0, 0.15);\n",
              "      filter: drop-shadow(0px 1px 2px rgba(0, 0, 0, 0.3));\n",
              "      fill: #FFFFFF;\n",
              "    }\n",
              "  </style>\n",
              "\n",
              "      <script>\n",
              "        const buttonEl =\n",
              "          document.querySelector('#df-de2ccec9-471f-4ee9-b622-9b0e3702c4e7 button.colab-df-convert');\n",
              "        buttonEl.style.display =\n",
              "          google.colab.kernel.accessAllowed ? 'block' : 'none';\n",
              "\n",
              "        async function convertToInteractive(key) {\n",
              "          const element = document.querySelector('#df-de2ccec9-471f-4ee9-b622-9b0e3702c4e7');\n",
              "          const dataTable =\n",
              "            await google.colab.kernel.invokeFunction('convertToInteractive',\n",
              "                                                     [key], {});\n",
              "          if (!dataTable) return;\n",
              "\n",
              "          const docLinkHtml = 'Like what you see? Visit the ' +\n",
              "            '<a target=\"_blank\" href=https://colab.research.google.com/notebooks/data_table.ipynb>data table notebook</a>'\n",
              "            + ' to learn more about interactive tables.';\n",
              "          element.innerHTML = '';\n",
              "          dataTable['output_type'] = 'display_data';\n",
              "          await google.colab.output.renderOutput(dataTable, element);\n",
              "          const docLink = document.createElement('div');\n",
              "          docLink.innerHTML = docLinkHtml;\n",
              "          element.appendChild(docLink);\n",
              "        }\n",
              "      </script>\n",
              "    </div>\n",
              "  </div>\n",
              "  "
            ]
          },
          "metadata": {},
          "execution_count": 52
        }
      ]
    },
    {
      "cell_type": "code",
      "source": [
        "df.shape"
      ],
      "metadata": {
        "colab": {
          "base_uri": "https://localhost:8080/"
        },
        "id": "uux_09bdo9ez",
        "outputId": "98594d5b-42ee-4e2a-b952-88c740e99e5f"
      },
      "execution_count": 53,
      "outputs": [
        {
          "output_type": "execute_result",
          "data": {
            "text/plain": [
              "(1567, 592)"
            ]
          },
          "metadata": {},
          "execution_count": 53
        }
      ]
    },
    {
      "cell_type": "code",
      "source": [
        "df.info()"
      ],
      "metadata": {
        "colab": {
          "base_uri": "https://localhost:8080/"
        },
        "id": "dDa4r2ZqyyiC",
        "outputId": "6dbacace-f4cc-46ac-ccac-fcc11ae5acdc"
      },
      "execution_count": 31,
      "outputs": [
        {
          "output_type": "stream",
          "name": "stdout",
          "text": [
            "<class 'pandas.core.frame.DataFrame'>\n",
            "RangeIndex: 1567 entries, 0 to 1566\n",
            "Columns: 592 entries, Time to Pass/Fail\n",
            "dtypes: float64(590), int64(1), object(1)\n",
            "memory usage: 7.1+ MB\n"
          ]
        }
      ]
    },
    {
      "cell_type": "markdown",
      "source": [
        "#FILTERING THE DATA"
      ],
      "metadata": {
        "id": "68nMfo6JRTeY"
      }
    },
    {
      "cell_type": "code",
      "source": [
        "missing_data=data.isna().sum()\n"
      ],
      "metadata": {
        "id": "hVCIDzhJpBRv"
      },
      "execution_count": 54,
      "outputs": []
    },
    {
      "cell_type": "markdown",
      "source": [
        "PLOTTING THE MISSING DATA ENTRIES"
      ],
      "metadata": {
        "id": "te1DXQoZSCAY"
      }
    },
    {
      "cell_type": "code",
      "source": [
        "px.histogram(missing_data,title=\"Missing Values\")"
      ],
      "metadata": {
        "colab": {
          "base_uri": "https://localhost:8080/",
          "height": 542
        },
        "id": "c2xYLJkjxgrt",
        "outputId": "6103542f-507e-47fa-db4f-367632a4a42d"
      },
      "execution_count": 124,
      "outputs": [
        {
          "output_type": "display_data",
          "data": {
            "text/html": [
              "<html>\n",
              "<head><meta charset=\"utf-8\" /></head>\n",
              "<body>\n",
              "    <div>            <script src=\"https://cdnjs.cloudflare.com/ajax/libs/mathjax/2.7.5/MathJax.js?config=TeX-AMS-MML_SVG\"></script><script type=\"text/javascript\">if (window.MathJax) {MathJax.Hub.Config({SVG: {font: \"STIX-Web\"}});}</script>                <script type=\"text/javascript\">window.PlotlyConfig = {MathJaxConfig: 'local'};</script>\n",
              "        <script src=\"https://cdn.plot.ly/plotly-2.8.3.min.js\"></script>                <div id=\"0d803d84-4cf6-4b5f-9e86-74af8ba1446e\" class=\"plotly-graph-div\" style=\"height:525px; width:100%;\"></div>            <script type=\"text/javascript\">                                    window.PLOTLYENV=window.PLOTLYENV || {};                                    if (document.getElementById(\"0d803d84-4cf6-4b5f-9e86-74af8ba1446e\")) {                    Plotly.newPlot(                        \"0d803d84-4cf6-4b5f-9e86-74af8ba1446e\",                        [{\"alignmentgroup\":\"True\",\"bingroup\":\"x\",\"hovertemplate\":\"variable=0<br>value=%{x}<br>count=%{y}<extra></extra>\",\"legendgroup\":\"0\",\"marker\":{\"color\":\"#636efa\",\"pattern\":{\"shape\":\"\"}},\"name\":\"0\",\"offsetgroup\":\"0\",\"orientation\":\"v\",\"showlegend\":true,\"x\":[0,6,7,14,14,14,14,14,9,2,2,2,2,2,3,3,3,3,3,3,10,0,2,2,2,2,2,2,2,2,2,2,2,1,1,1,1,1,1,1,1,24,24,1,1,1,1,1,1,1,1,1,1,1,4,4,4,4,4,4,7,6,6,6,7,7,7,6,6,6,6,6,6,794,794,6,24,24,24,24,24,24,24,24,1,12,1341,0,0,0,51,51,6,2,2,6,6,6,6,6,6,6,6,6,2,2,6,6,6,6,1018,1018,1018,715,0,0,0,0,0,24,0,0,9,9,9,9,9,9,9,9,9,9,9,8,8,8,5,6,7,14,14,14,14,14,9,2,2,2,2,2,3,3,3,3,3,3,10,0,1429,1429,2,2,2,2,2,2,2,2,2,2,2,1,1,1,1,1,1,1,1,24,1,1,1,1,1,1,1,1,1,1,1,4,4,4,4,4,4,7,6,6,6,7,7,7,6,6,6,6,6,6,6,24,24,24,24,24,24,24,24,1,12,1341,0,0,0,51,51,6,2,2,6,6,6,6,6,6,6,6,6,2,2,6,6,6,6,1018,1018,1018,715,0,0,0,0,0,24,0,0,9,9,9,9,9,9,9,9,9,9,9,8,8,8,5,6,7,14,14,14,14,14,9,2,2,2,2,2,3,3,3,3,3,3,10,0,1429,1429,2,2,2,2,2,2,2,2,2,2,2,1,1,1,1,1,1,1,1,24,24,1,1,1,1,1,1,1,1,1,1,1,4,4,4,4,4,4,7,6,6,6,7,7,7,6,6,6,6,6,6,794,794,6,24,24,24,24,24,24,24,24,1,12,1341,0,0,0,51,51,6,2,2,6,6,6,6,6,6,6,6,6,2,2,6,6,6,6,1018,1018,1018,715,0,0,0,0,0,24,0,0,9,9,9,9,9,9,9,9,9,9,9,8,8,8,5,6,7,14,14,14,14,14,9,2,2,2,2,2,3,3,3,3,3,3,10,0,2,2,2,2,2,2,2,2,2,2,2,1,1,1,1,1,1,1,1,24,24,1,1,1,1,1,1,1,1,1,1,1,4,4,4,4,4,4,7,6,6,6,7,7,7,6,6,6,6,6,6,6,24,24,24,24,24,24,24,24,1,12,1341,0,0,0,51,51,6,2,2,6,6,6,6,6,6,6,6,6,2,2,6,6,6,6,1018,1018,1018,715,0,0,0,0,0,24,0,0,9,9,9,9,9,9,9,9,9,9,9,8,8,8,2,2,2,2,260,260,260,260,260,260,260,260,260,260,260,260,1,1,1,1,273,273,273,273,273,273,273,273,0,0,0,0,0,0,0,0,949,949,949,949,1,1,1,1,1,1,1,1,0],\"xaxis\":\"x\",\"yaxis\":\"y\",\"type\":\"histogram\"}],                        {\"template\":{\"data\":{\"bar\":[{\"error_x\":{\"color\":\"#2a3f5f\"},\"error_y\":{\"color\":\"#2a3f5f\"},\"marker\":{\"line\":{\"color\":\"#E5ECF6\",\"width\":0.5},\"pattern\":{\"fillmode\":\"overlay\",\"size\":10,\"solidity\":0.2}},\"type\":\"bar\"}],\"barpolar\":[{\"marker\":{\"line\":{\"color\":\"#E5ECF6\",\"width\":0.5},\"pattern\":{\"fillmode\":\"overlay\",\"size\":10,\"solidity\":0.2}},\"type\":\"barpolar\"}],\"carpet\":[{\"aaxis\":{\"endlinecolor\":\"#2a3f5f\",\"gridcolor\":\"white\",\"linecolor\":\"white\",\"minorgridcolor\":\"white\",\"startlinecolor\":\"#2a3f5f\"},\"baxis\":{\"endlinecolor\":\"#2a3f5f\",\"gridcolor\":\"white\",\"linecolor\":\"white\",\"minorgridcolor\":\"white\",\"startlinecolor\":\"#2a3f5f\"},\"type\":\"carpet\"}],\"choropleth\":[{\"colorbar\":{\"outlinewidth\":0,\"ticks\":\"\"},\"type\":\"choropleth\"}],\"contour\":[{\"colorbar\":{\"outlinewidth\":0,\"ticks\":\"\"},\"colorscale\":[[0.0,\"#0d0887\"],[0.1111111111111111,\"#46039f\"],[0.2222222222222222,\"#7201a8\"],[0.3333333333333333,\"#9c179e\"],[0.4444444444444444,\"#bd3786\"],[0.5555555555555556,\"#d8576b\"],[0.6666666666666666,\"#ed7953\"],[0.7777777777777778,\"#fb9f3a\"],[0.8888888888888888,\"#fdca26\"],[1.0,\"#f0f921\"]],\"type\":\"contour\"}],\"contourcarpet\":[{\"colorbar\":{\"outlinewidth\":0,\"ticks\":\"\"},\"type\":\"contourcarpet\"}],\"heatmap\":[{\"colorbar\":{\"outlinewidth\":0,\"ticks\":\"\"},\"colorscale\":[[0.0,\"#0d0887\"],[0.1111111111111111,\"#46039f\"],[0.2222222222222222,\"#7201a8\"],[0.3333333333333333,\"#9c179e\"],[0.4444444444444444,\"#bd3786\"],[0.5555555555555556,\"#d8576b\"],[0.6666666666666666,\"#ed7953\"],[0.7777777777777778,\"#fb9f3a\"],[0.8888888888888888,\"#fdca26\"],[1.0,\"#f0f921\"]],\"type\":\"heatmap\"}],\"heatmapgl\":[{\"colorbar\":{\"outlinewidth\":0,\"ticks\":\"\"},\"colorscale\":[[0.0,\"#0d0887\"],[0.1111111111111111,\"#46039f\"],[0.2222222222222222,\"#7201a8\"],[0.3333333333333333,\"#9c179e\"],[0.4444444444444444,\"#bd3786\"],[0.5555555555555556,\"#d8576b\"],[0.6666666666666666,\"#ed7953\"],[0.7777777777777778,\"#fb9f3a\"],[0.8888888888888888,\"#fdca26\"],[1.0,\"#f0f921\"]],\"type\":\"heatmapgl\"}],\"histogram\":[{\"marker\":{\"pattern\":{\"fillmode\":\"overlay\",\"size\":10,\"solidity\":0.2}},\"type\":\"histogram\"}],\"histogram2d\":[{\"colorbar\":{\"outlinewidth\":0,\"ticks\":\"\"},\"colorscale\":[[0.0,\"#0d0887\"],[0.1111111111111111,\"#46039f\"],[0.2222222222222222,\"#7201a8\"],[0.3333333333333333,\"#9c179e\"],[0.4444444444444444,\"#bd3786\"],[0.5555555555555556,\"#d8576b\"],[0.6666666666666666,\"#ed7953\"],[0.7777777777777778,\"#fb9f3a\"],[0.8888888888888888,\"#fdca26\"],[1.0,\"#f0f921\"]],\"type\":\"histogram2d\"}],\"histogram2dcontour\":[{\"colorbar\":{\"outlinewidth\":0,\"ticks\":\"\"},\"colorscale\":[[0.0,\"#0d0887\"],[0.1111111111111111,\"#46039f\"],[0.2222222222222222,\"#7201a8\"],[0.3333333333333333,\"#9c179e\"],[0.4444444444444444,\"#bd3786\"],[0.5555555555555556,\"#d8576b\"],[0.6666666666666666,\"#ed7953\"],[0.7777777777777778,\"#fb9f3a\"],[0.8888888888888888,\"#fdca26\"],[1.0,\"#f0f921\"]],\"type\":\"histogram2dcontour\"}],\"mesh3d\":[{\"colorbar\":{\"outlinewidth\":0,\"ticks\":\"\"},\"type\":\"mesh3d\"}],\"parcoords\":[{\"line\":{\"colorbar\":{\"outlinewidth\":0,\"ticks\":\"\"}},\"type\":\"parcoords\"}],\"pie\":[{\"automargin\":true,\"type\":\"pie\"}],\"scatter\":[{\"marker\":{\"colorbar\":{\"outlinewidth\":0,\"ticks\":\"\"}},\"type\":\"scatter\"}],\"scatter3d\":[{\"line\":{\"colorbar\":{\"outlinewidth\":0,\"ticks\":\"\"}},\"marker\":{\"colorbar\":{\"outlinewidth\":0,\"ticks\":\"\"}},\"type\":\"scatter3d\"}],\"scattercarpet\":[{\"marker\":{\"colorbar\":{\"outlinewidth\":0,\"ticks\":\"\"}},\"type\":\"scattercarpet\"}],\"scattergeo\":[{\"marker\":{\"colorbar\":{\"outlinewidth\":0,\"ticks\":\"\"}},\"type\":\"scattergeo\"}],\"scattergl\":[{\"marker\":{\"colorbar\":{\"outlinewidth\":0,\"ticks\":\"\"}},\"type\":\"scattergl\"}],\"scattermapbox\":[{\"marker\":{\"colorbar\":{\"outlinewidth\":0,\"ticks\":\"\"}},\"type\":\"scattermapbox\"}],\"scatterpolar\":[{\"marker\":{\"colorbar\":{\"outlinewidth\":0,\"ticks\":\"\"}},\"type\":\"scatterpolar\"}],\"scatterpolargl\":[{\"marker\":{\"colorbar\":{\"outlinewidth\":0,\"ticks\":\"\"}},\"type\":\"scatterpolargl\"}],\"scatterternary\":[{\"marker\":{\"colorbar\":{\"outlinewidth\":0,\"ticks\":\"\"}},\"type\":\"scatterternary\"}],\"surface\":[{\"colorbar\":{\"outlinewidth\":0,\"ticks\":\"\"},\"colorscale\":[[0.0,\"#0d0887\"],[0.1111111111111111,\"#46039f\"],[0.2222222222222222,\"#7201a8\"],[0.3333333333333333,\"#9c179e\"],[0.4444444444444444,\"#bd3786\"],[0.5555555555555556,\"#d8576b\"],[0.6666666666666666,\"#ed7953\"],[0.7777777777777778,\"#fb9f3a\"],[0.8888888888888888,\"#fdca26\"],[1.0,\"#f0f921\"]],\"type\":\"surface\"}],\"table\":[{\"cells\":{\"fill\":{\"color\":\"#EBF0F8\"},\"line\":{\"color\":\"white\"}},\"header\":{\"fill\":{\"color\":\"#C8D4E3\"},\"line\":{\"color\":\"white\"}},\"type\":\"table\"}]},\"layout\":{\"annotationdefaults\":{\"arrowcolor\":\"#2a3f5f\",\"arrowhead\":0,\"arrowwidth\":1},\"autotypenumbers\":\"strict\",\"coloraxis\":{\"colorbar\":{\"outlinewidth\":0,\"ticks\":\"\"}},\"colorscale\":{\"diverging\":[[0,\"#8e0152\"],[0.1,\"#c51b7d\"],[0.2,\"#de77ae\"],[0.3,\"#f1b6da\"],[0.4,\"#fde0ef\"],[0.5,\"#f7f7f7\"],[0.6,\"#e6f5d0\"],[0.7,\"#b8e186\"],[0.8,\"#7fbc41\"],[0.9,\"#4d9221\"],[1,\"#276419\"]],\"sequential\":[[0.0,\"#0d0887\"],[0.1111111111111111,\"#46039f\"],[0.2222222222222222,\"#7201a8\"],[0.3333333333333333,\"#9c179e\"],[0.4444444444444444,\"#bd3786\"],[0.5555555555555556,\"#d8576b\"],[0.6666666666666666,\"#ed7953\"],[0.7777777777777778,\"#fb9f3a\"],[0.8888888888888888,\"#fdca26\"],[1.0,\"#f0f921\"]],\"sequentialminus\":[[0.0,\"#0d0887\"],[0.1111111111111111,\"#46039f\"],[0.2222222222222222,\"#7201a8\"],[0.3333333333333333,\"#9c179e\"],[0.4444444444444444,\"#bd3786\"],[0.5555555555555556,\"#d8576b\"],[0.6666666666666666,\"#ed7953\"],[0.7777777777777778,\"#fb9f3a\"],[0.8888888888888888,\"#fdca26\"],[1.0,\"#f0f921\"]]},\"colorway\":[\"#636efa\",\"#EF553B\",\"#00cc96\",\"#ab63fa\",\"#FFA15A\",\"#19d3f3\",\"#FF6692\",\"#B6E880\",\"#FF97FF\",\"#FECB52\"],\"font\":{\"color\":\"#2a3f5f\"},\"geo\":{\"bgcolor\":\"white\",\"lakecolor\":\"white\",\"landcolor\":\"#E5ECF6\",\"showlakes\":true,\"showland\":true,\"subunitcolor\":\"white\"},\"hoverlabel\":{\"align\":\"left\"},\"hovermode\":\"closest\",\"mapbox\":{\"style\":\"light\"},\"paper_bgcolor\":\"white\",\"plot_bgcolor\":\"#E5ECF6\",\"polar\":{\"angularaxis\":{\"gridcolor\":\"white\",\"linecolor\":\"white\",\"ticks\":\"\"},\"bgcolor\":\"#E5ECF6\",\"radialaxis\":{\"gridcolor\":\"white\",\"linecolor\":\"white\",\"ticks\":\"\"}},\"scene\":{\"xaxis\":{\"backgroundcolor\":\"#E5ECF6\",\"gridcolor\":\"white\",\"gridwidth\":2,\"linecolor\":\"white\",\"showbackground\":true,\"ticks\":\"\",\"zerolinecolor\":\"white\"},\"yaxis\":{\"backgroundcolor\":\"#E5ECF6\",\"gridcolor\":\"white\",\"gridwidth\":2,\"linecolor\":\"white\",\"showbackground\":true,\"ticks\":\"\",\"zerolinecolor\":\"white\"},\"zaxis\":{\"backgroundcolor\":\"#E5ECF6\",\"gridcolor\":\"white\",\"gridwidth\":2,\"linecolor\":\"white\",\"showbackground\":true,\"ticks\":\"\",\"zerolinecolor\":\"white\"}},\"shapedefaults\":{\"line\":{\"color\":\"#2a3f5f\"}},\"ternary\":{\"aaxis\":{\"gridcolor\":\"white\",\"linecolor\":\"white\",\"ticks\":\"\"},\"baxis\":{\"gridcolor\":\"white\",\"linecolor\":\"white\",\"ticks\":\"\"},\"bgcolor\":\"#E5ECF6\",\"caxis\":{\"gridcolor\":\"white\",\"linecolor\":\"white\",\"ticks\":\"\"}},\"title\":{\"x\":0.05},\"xaxis\":{\"automargin\":true,\"gridcolor\":\"white\",\"linecolor\":\"white\",\"ticks\":\"\",\"title\":{\"standoff\":15},\"zerolinecolor\":\"white\",\"zerolinewidth\":2},\"yaxis\":{\"automargin\":true,\"gridcolor\":\"white\",\"linecolor\":\"white\",\"ticks\":\"\",\"title\":{\"standoff\":15},\"zerolinecolor\":\"white\",\"zerolinewidth\":2}}},\"xaxis\":{\"anchor\":\"y\",\"domain\":[0.0,1.0],\"title\":{\"text\":\"value\"}},\"yaxis\":{\"anchor\":\"x\",\"domain\":[0.0,1.0],\"title\":{\"text\":\"count\"}},\"legend\":{\"title\":{\"text\":\"variable\"},\"tracegroupgap\":0},\"title\":{\"text\":\"Missing Values\"},\"barmode\":\"relative\"},                        {\"responsive\": true}                    ).then(function(){\n",
              "                            \n",
              "var gd = document.getElementById('0d803d84-4cf6-4b5f-9e86-74af8ba1446e');\n",
              "var x = new MutationObserver(function (mutations, observer) {{\n",
              "        var display = window.getComputedStyle(gd).display;\n",
              "        if (!display || display === 'none') {{\n",
              "            console.log([gd, 'removed!']);\n",
              "            Plotly.purge(gd);\n",
              "            observer.disconnect();\n",
              "        }}\n",
              "}});\n",
              "\n",
              "// Listen for the removal of the full notebook cells\n",
              "var notebookContainer = gd.closest('#notebook-container');\n",
              "if (notebookContainer) {{\n",
              "    x.observe(notebookContainer, {childList: true});\n",
              "}}\n",
              "\n",
              "// Listen for the clearing of the current output cell\n",
              "var outputEl = gd.closest('.output');\n",
              "if (outputEl) {{\n",
              "    x.observe(outputEl, {childList: true});\n",
              "}}\n",
              "\n",
              "                        })                };                            </script>        </div>\n",
              "</body>\n",
              "</html>"
            ]
          },
          "metadata": {}
        }
      ]
    },
    {
      "cell_type": "markdown",
      "source": [
        "REMOVING SPARSE FEATURES"
      ],
      "metadata": {
        "id": "S9x2WDOySXGZ"
      }
    },
    {
      "cell_type": "code",
      "source": [
        "df = df[df.columns[df.isna().sum() <100]]\n"
      ],
      "metadata": {
        "id": "RJunIYayxQh-"
      },
      "execution_count": 57,
      "outputs": []
    },
    {
      "cell_type": "code",
      "source": [
        "df.isna().value_counts()"
      ],
      "metadata": {
        "id": "XWl5cecr1e4D"
      },
      "execution_count": 79,
      "outputs": []
    },
    {
      "cell_type": "code",
      "source": [
        "df=df.dropna()"
      ],
      "metadata": {
        "id": "1H2tbDrX13To"
      },
      "execution_count": 60,
      "outputs": []
    },
    {
      "cell_type": "code",
      "source": [
        "df2=df['Pass/Fail'].replace(-1,0)"
      ],
      "metadata": {
        "id": "W3Y7zaWU3vhq"
      },
      "execution_count": 64,
      "outputs": []
    },
    {
      "cell_type": "code",
      "source": [
        "df2"
      ],
      "metadata": {
        "colab": {
          "base_uri": "https://localhost:8080/"
        },
        "id": "E9Q8vvF842Na",
        "outputId": "2aa1741d-ad19-408d-be62-bc464f5f8bba"
      },
      "execution_count": 74,
      "outputs": [
        {
          "output_type": "execute_result",
          "data": {
            "text/plain": [
              "1       0\n",
              "2       1\n",
              "3       0\n",
              "4       0\n",
              "5       0\n",
              "       ..\n",
              "1537    0\n",
              "1539    0\n",
              "1540    0\n",
              "1541    0\n",
              "1550    0\n",
              "Name: Pass/Fail, Length: 1393, dtype: int64"
            ]
          },
          "metadata": {},
          "execution_count": 74
        }
      ]
    },
    {
      "cell_type": "code",
      "source": [
        "df['Pass/Fail']=df2"
      ],
      "metadata": {
        "id": "Cs-dNi5e48J7"
      },
      "execution_count": 75,
      "outputs": []
    },
    {
      "cell_type": "code",
      "source": [
        "df=df.drop('Time',axis=1)"
      ],
      "metadata": {
        "id": "4ctRTuXC7dh0"
      },
      "execution_count": 88,
      "outputs": []
    },
    {
      "cell_type": "markdown",
      "source": [
        "# TEST-TRAIN SPLIT"
      ],
      "metadata": {
        "id": "5khzKZuaS4lc"
      }
    },
    {
      "cell_type": "code",
      "source": [
        "X = df.drop(['Pass/Fail'],axis=1)\n",
        "y = df['Pass/Fail']"
      ],
      "metadata": {
        "id": "9FQP8hnrMYOJ"
      },
      "execution_count": 99,
      "outputs": []
    },
    {
      "cell_type": "code",
      "source": [
        "# Split data set into training and test sets\n",
        "X_train, X_test, y_train, y_test = train_test_split(X, y, test_size=0.3, random_state=42)"
      ],
      "metadata": {
        "id": "spMRjzH98Kkj"
      },
      "execution_count": 101,
      "outputs": []
    },
    {
      "cell_type": "markdown",
      "source": [
        "#MACHINE LEARNING"
      ],
      "metadata": {
        "id": "rEpfizj6TC2p"
      }
    },
    {
      "cell_type": "code",
      "source": [
        "model = LogisticRegression(max_iter=100)\n",
        "\n",
        "# Fit the model using the training data\n",
        "# X_train -> parameter supplies the data features\n",
        "# y_train -> parameter supplies the target labels\n",
        "model.fit(X_train, y_train)"
      ],
      "metadata": {
        "colab": {
          "base_uri": "https://localhost:8080/"
        },
        "id": "MTlkK7pz9pLK",
        "outputId": "0a2c0b6b-ab15-44dd-9576-26d79834fff5"
      },
      "execution_count": 107,
      "outputs": [
        {
          "output_type": "stream",
          "name": "stderr",
          "text": [
            "/usr/local/lib/python3.8/dist-packages/sklearn/linear_model/_logistic.py:814: ConvergenceWarning:\n",
            "\n",
            "lbfgs failed to converge (status=1):\n",
            "STOP: TOTAL NO. of ITERATIONS REACHED LIMIT.\n",
            "\n",
            "Increase the number of iterations (max_iter) or scale the data as shown in:\n",
            "    https://scikit-learn.org/stable/modules/preprocessing.html\n",
            "Please also refer to the documentation for alternative solver options:\n",
            "    https://scikit-learn.org/stable/modules/linear_model.html#logistic-regression\n",
            "\n"
          ]
        },
        {
          "output_type": "execute_result",
          "data": {
            "text/plain": [
              "LogisticRegression()"
            ]
          },
          "metadata": {},
          "execution_count": 107
        }
      ]
    },
    {
      "cell_type": "code",
      "source": [
        "predict1 = model.predict(X_train)\n",
        "print(classification_report(y_train, predict1))\n",
        "\n",
        "# computes the confusion matrix\n",
        "cm = confusion_matrix(y_train, predict1)\n",
        "\n",
        "# Plots the confusion matrix\n",
        "\n",
        "plt.clf()\n",
        "plt.imshow(cm, interpolation='nearest', cmap=plt.cm.viridis)\n",
        "classNames = ['Negative','Positive']\n",
        "plt.title('Pass/Fail')\n",
        "plt.ylabel('True label')\n",
        "plt.xlabel('Predicted label')\n",
        "tick_marks = np.arange(len(classNames))\n",
        "plt.xticks(tick_marks, classNames, rotation=45)\n",
        "plt.yticks(tick_marks, classNames)\n",
        "s = [['TN','FP'], ['FN', 'TP']]\n",
        "for i in range(2):\n",
        "    for j in range(2):\n",
        "        plt.text(j,i, str(s[i][j])+\" = \"+str(cm[i][j]))\n",
        "plt.show()"
      ],
      "metadata": {
        "colab": {
          "base_uri": "https://localhost:8080/",
          "height": 477
        },
        "id": "711oOMsZY5up",
        "outputId": "85afa2d5-ec9d-4500-a04f-ff317c2e79b3"
      },
      "execution_count": 125,
      "outputs": [
        {
          "output_type": "stream",
          "name": "stdout",
          "text": [
            "              precision    recall  f1-score   support\n",
            "\n",
            "           0       0.93      1.00      0.96       904\n",
            "           1       0.67      0.03      0.05        71\n",
            "\n",
            "    accuracy                           0.93       975\n",
            "   macro avg       0.80      0.51      0.51       975\n",
            "weighted avg       0.91      0.93      0.90       975\n",
            "\n"
          ]
        },
        {
          "output_type": "display_data",
          "data": {
            "text/plain": [
              "<Figure size 432x288 with 1 Axes>"
            ],
            "image/png": "[encoded data removed]"
          },
          "metadata": {
            "needs_background": "light"
          }
        }
      ]
    },
    {
      "cell_type": "code",
      "source": [
        "predict2 = model.predict(X_test)\n",
        "print(classification_report(y_test, predict2))\n",
        "\n",
        "# computes the confusion matrix\n",
        "cm = confusion_matrix(y_test, predict2)\n",
        "\n",
        "# Plots the confusion matrix\n",
        "\n",
        "plt.clf()\n",
        "plt.imshow(cm, interpolation='nearest', cmap=plt.cm.viridis)\n",
        "classNames = ['Negative','Positive']\n",
        "plt.title('Pass/Fail')\n",
        "plt.ylabel('True label')\n",
        "plt.xlabel('Predicted label')\n",
        "tick_marks = np.arange(len(classNames))\n",
        "plt.xticks(tick_marks, classNames, rotation=45)\n",
        "plt.yticks(tick_marks, classNames)\n",
        "s = [['TN','FP'], ['FN', 'TP']]\n",
        "for i in range(2):\n",
        "    for j in range(2):\n",
        "        plt.text(j,i, str(s[i][j])+\" = \"+str(cm[i][j]))\n",
        "plt.show()"
      ],
      "metadata": {
        "colab": {
          "base_uri": "https://localhost:8080/",
          "height": 477
        },
        "id": "cP_TfnMZ_odE",
        "outputId": "aba271d6-0733-475d-859f-f7d95cec437c"
      },
      "execution_count": 126,
      "outputs": [
        {
          "output_type": "stream",
          "name": "stdout",
          "text": [
            "              precision    recall  f1-score   support\n",
            "\n",
            "           0       0.93      0.99      0.96       390\n",
            "           1       0.00      0.00      0.00        28\n",
            "\n",
            "    accuracy                           0.93       418\n",
            "   macro avg       0.47      0.50      0.48       418\n",
            "weighted avg       0.87      0.93      0.90       418\n",
            "\n"
          ]
        },
        {
          "output_type": "display_data",
          "data": {
            "text/plain": [
              "<Figure size 432x288 with 1 Axes>"
            ],
            "image/png": "[encoded data removed]"
          },
          "metadata": {
            "needs_background": "light"
          }
        }
      ]
    },
    {
      "cell_type": "code",
      "source": [],
      "metadata": {
        "id": "oIyKHJBbx4Fj"
      },
      "execution_count": 111,
      "outputs": []
    },
    {
      "cell_type": "markdown",
      "source": [
        "#NORMALIZING THE DATA"
      ],
      "metadata": {
        "id": "x5WSr3MRK3El"
      }
    },
    {
      "cell_type": "code",
      "source": [
        "print(\"Mean:\\n\\n\",df.mean(),\"\\n\")\n",
        "fig1 = px.histogram(df.mean(),title=\"Mean\")\n",
        "fig1.show()\n",
        "print(\"\\n\\nStandard Deviation:\\n\\n\",df.std(),'\\n')\n",
        "fig2 = px.histogram(df.std(),title=\"Standard Deviation\")\n",
        "fig2.show()"
      ],
      "metadata": {
        "colab": {
          "base_uri": "https://localhost:8080/",
          "height": 1000
        },
        "id": "NvZWv0ofK6Yn",
        "outputId": "edc52d43-f718-4acf-cdc0-de28c4063234"
      },
      "execution_count": 120,
      "outputs": [
        {
          "output_type": "stream",
          "name": "stdout",
          "text": [
            "Mean:\n",
            "\n",
            " 0            3014.966274\n",
            "1            2494.861981\n",
            "2            2200.348900\n",
            "3            1384.417093\n",
            "4               2.928322\n",
            "                ...     \n",
            "586             0.021743\n",
            "587             0.016454\n",
            "588             0.005279\n",
            "589            98.088611\n",
            "Pass/Fail       0.071070\n",
            "Length: 539, dtype: float64 \n",
            "\n"
          ]
        },
        {
          "output_type": "display_data",
          "data": {
            "text/html": [
              "<html>\n",
              "<head><meta charset=\"utf-8\" /></head>\n",
              "<body>\n",
              "    <div>            <script src=\"https://cdnjs.cloudflare.com/ajax/libs/mathjax/2.7.5/MathJax.js?config=TeX-AMS-MML_SVG\"></script><script type=\"text/javascript\">if (window.MathJax) {MathJax.Hub.Config({SVG: {font: \"STIX-Web\"}});}</script>                <script type=\"text/javascript\">window.PlotlyConfig = {MathJaxConfig: 'local'};</script>\n",
              "        <script src=\"https://cdn.plot.ly/plotly-2.8.3.min.js\"></script>                <div id=\"40f5bc7d-5323-407e-97f5-cb723c3b7efc\" class=\"plotly-graph-div\" style=\"height:525px; width:100%;\"></div>            <script type=\"text/javascript\">                                    window.PLOTLYENV=window.PLOTLYENV || {};                                    if (document.getElementById(\"40f5bc7d-5323-407e-97f5-cb723c3b7efc\")) {                    Plotly.newPlot(                        \"40f5bc7d-5323-407e-97f5-cb723c3b7efc\",                        [{\"alignmentgroup\":\"True\",\"bingroup\":\"x\",\"hovertemplate\":\"variable=0<br>value=%{x}<br>count=%{y}<extra></extra>\",\"legendgroup\":\"0\",\"marker\":{\"color\":\"#636efa\",\"pattern\":{\"shape\":\"\"}},\"name\":\"0\",\"offsetgroup\":\"0\",\"orientation\":\"v\",\"showlegend\":true,\"x\":[3014.966274228284,2494.861981335248,2200.3488999282126,1384.4170926058866,2.9283221105527644,100.0,101.23160760947596,0.12224580043072507,1.4651720028715005,-0.000860732232591529,2.1105527638190662e-05,0.9642063173007897,199.95526231155776,0.0,8.896453984206747,413.01751564967697,9.914956353194542,0.9714078966259869,190.04030689160086,12.482656281407035,1.4050246231155779,-5618.744256999282,2705.7598707824836,-3777.3745511127067,-283.5019138549892,1.2036471643933955,1.9393875807609475,6.6429791816223975,69.41473316582915,2.367583560660445,0.1841480258435032,3.6750429289303663,85.37736920315864,8.970397487437186,50.59708334529792,64.58826503948312,49.40292526920315,66.22805154343143,86.85103776022972,118.66095262024407,67.78609404163676,3.3667966259870785,70.0,355.3782729361091,10.031518592964824,136.67353811916726,733.3956289303662,1.1772389806173726,139.97226769562096,1.0,632.0240808327351,155.9985567839196,0.0,4.593793251974157,4.83951328068916,2855.824838478105,0.9290750179468772,0.9491926776740848,4.595080473797559,3.1076250538406316,355.03944910265614,10.424114501076813,116.45022268485282,14.039097989949747,20.537817875089733,27.12114860014357,706.3787918880115,18.614606101938264,147.36374120603017,1.0,618.8564233309405,103.5722609475951,0.0030118449389806173,-0.006493395549174443,-0.02981342426417803,-0.00654508255563532,-0.0134770279971285,0.0038758076094759513,-0.01901816223977028,-0.020984924623115575,0.006866044508255563,7.455758937544867,0.133048671931084,2.4015258435032303,0.9820665470208184,1808.257762885858,0.18933115577889445,8823.89869856425,0.004046877243359656,0.0005595836324479541,-0.0005573582196697773,-2.8499641062455134e-05,5.9152907394113426e-05,0.016679038047379753,0.0,-0.017053768844221107,0.0010842785355348174,-2.297200287150036e-05,-6.676238334529794e-06,0.0008072505384063178,-0.009783632447954054,-9.691313711414211e-06,-0.0005492462311557789,0.0005580043072505381,0.00037709978463747347,-0.011845728643216081,0.9451935391241925,0.00013366834170854274,746.0872892318737,0.9871537688442211,58.641871069633886,0.5983300789662599,0.9706871500358937,6.311721966977745,15.799712849964106,3.9047171572146446,15.83278535534817,15.798205312275664,1.1793417803302224,2.7541012203876525,0.6491936826992104,3.1871328068916003,-0.5665664034458004,0.7461310839913855,0.9978175879396983,2.319697487437186,1004.1340777458722,39.333830437903806,117.53122756640344,137.70775305096913,123.13668341708542,57.7413471643934,412.5235931801866,14.676656568557068,0.0,6.617315147164393,0.00417494615936827,0.11896956209619527,0.063710839913855,0.054985786073223256,0.017584493898061736,8.561353697056713,0.0,6.7770215362526915,14.214229002153626,1.2757922469490308,0.011961091170136396,7.739756353194544,0.5049217516152189,0.058856855707106956,867.3826274228285,559.1471643933955,4135.145728643216,4823.570710696339,0.14067767408470924,0.1266956209619526,0.24589806173725767,2.7688442211055277,1.23402727925341,0.12450681981335247,0.3999045226130653,0.6871802584350323,0.12043603732950467,0.3199542713567839,0.5768310122038766,0.3199537688442211,0.7778047379755922,0.24441959798994975,0.39706101938262744,0.0,0.0,18.995750179468775,0.5410229720028715,10.716554199569275,26.906188083273516,0.1426554199569275,7.250445082555634,0.0,17.91649669777459,42.79472936109117,0.0,0.0,0.0,0.0,0.0,0.0,0.2762067480258435,8.75980617372577,20.191608040201004,0.5586130653266331,11.564938980617372,17.81697056712132,7.8408542713567835,10.224753625269203,30.48715161521896,36.082944795405595,9.215707106963388,0.0014357501794687725,20.672821249102654,73.32405527638191,0.03312993539124192,0.08953165829145729,0.05694314429289303,0.051730366116295765,0.0610067480258435,0.08301780330222541,0.08078198133524767,0.08365089734386216,0.07125850681981336,3.7749472361809047,0.0032046661880832735,0.060785857860732234,0.009317013639626705,122.84135857860733,0.05860358937544867,1042.267182483848,0.0,0.01917853553481694,0.01775800430725054,0.0,0.0,0.0,0.0,0.0,0.0,0.0,0.0,0.0,0.004808542713567839,0.0045770997846374725,0.0,0.0,0.0,0.0,0.025730653266331657,0.0011567121320890162,109.61393079684134,0.004511844938980617,4.859340129217517,0.03327365398420675,0.013996625987078246,0.40589440057430015,0.0,0.0,0.0,0.0,0.0,0.0,0.0,0.0,0.0,0.0,0.0,0.06994070351758794,19.534498923187368,3.7974585068198135,29.2611768126346,45.93804099066762,41.46318147882268,20.20369576453697,134.8953181622398,4.893105743000717,0.0,2.195000287150036,0.0011219669777458722,0.04074005743000718,0.01804400574300072,0.015061809045226129,0.005826633165829145,2.8301386934673367,0.0,2.106869490308686,4.313715147164393,0.3921493898061738,0.003933309404163675,2.5898295046661883,0.123367552045944,0.020155922469490307,394.3233865039483,254.5200941134243,1909.2750854271358,2361.2657408470927,0.06385233309404163,0.059337832017229,0.1150661880832735,0.9036350323043792,0.40334924623115576,0.04040064608758076,0.13176992103374013,0.2658311557788945,0.04881335247666907,0.1288954055994257,0.21872333094041638,0.12889540559942567,0.30503424264178036,0.09721012203876526,0.16114242641780332,0.0,0.0,0.0,5.964487221823402,0.1709272792534099,3.1647435750179467,8.000523259152908,0.04254063173007897,2.231175448671931,0.0,5.3880255563531945,13.202152979181623,0.0,0.0,0.0,0.0,0.0,0.0,0.08213732950466619,2.615791529073941,6.247090811198851,0.1687448671931084,3.444185139985643,9.76783984206748,2.326868413496052,3.0591750179468775,9.452907106963389,16.43696453697057,2.7803704235463034,0.0003210337401292175,6.2851933955491734,23.21607185929648,0.009989016511127064,0.024880330222541276,0.025330150753768845,0.023323761665470205,0.027878535534816944,0.023262742282842787,0.0401656855707107,0.04206037329504666,0.034329145728643214,1.300251399856425,0.0009825556353194544,0.019824335965541996,0.003124120603015075,39.98512246949031,0.018161737257717154,333.4296730796841,0.0,0.005212634601579325,0.004788585786073223,0.003795764536970566,0.0031752333094041637,0.0,0.0,0.0,0.0,0.0,0.0,0.0,0.0016080402010050254,0.0015745154343144291,0.0,0.0,0.0,0.0,0.008454271356783918,0.00036848528356066035,35.111556496769566,0.0014090452261306533,1.4990221823402725,0.010945297918162239,0.0045547020818377595,0.1346748743718593,0.0,0.0,0.0,0.0,0.0,0.0,0.0,0.0,0.0,0.0,0.0,0.02396417803302225,6.76013144292893,1.2397179468772435,5.320509619526202,4.56343847810481,4.9501096913137115,2.6226990667623835,30.924374587221823,24.379981335247667,0.0,6.583897989949748,3.4101912419239055,8.10495111270639,320.88147889447237,309.1280816223977,1.8407467336683416,4.212425556353194,0.0,78.26371787508974,3.3511118449389805,6.937434888729361,1.2378498923187367,4.082077674084709,4.186623330940416,4.2306743000717875,18.124986791098348,22.43785936826992,101.28136503948312,208.19081572146447,14.759683991385499,9.312124407753052,7.367890308686288,3.9951127063890883,54.70047250538406,70.89648521177315,11.500847164393397,0.8051097631012204,1.348027135678392,0.6335435750179469,0.8958173725771715,0.6468834170854272,1.1745208183776024,0.2815061019382627,0.3342186647523331,0.0,0.0,0.0,5.344435104091888,5.404493251974157,7.838650251256281,3.6713392677674084,12.186843575017948,5.198542928930366,0.0,2.836807250538406,29.216017013639625,0.0,0.0,0.0,0.0,0.0,0.0,6.018653768844222,223.3794405599426,5.693111916726489,5.376220531227566,9.646078176597271,138.27658190954773,39.38263582196698,37.63313524766691,4.323487150035893,20.368048025843503,6.387213208901651,0.14357501794687724,3.3317253409906673,76.10106489590811,0.0,319.1375828427854,203.38487717157216,216.6425498205312,199.18508169418521,302.3697123474516,233.96323345297918,352.995448241206,271.1349647523331,51.38674795405599,2.407405384063173,2.5333878679109834,1.0137836324479539,6.806317731514716,29.337951687006463,11.837911270638909,0.0,258.46269447236176,240.39485340990663,0.0,0.0,0.0,0.0,0.0,0.0,0.0,0.0,0.0,56.010682196697765,275.0219043072505,0.0,0.0,0.0,0.0,2.7593286432160804,12.342422756640342,14.745391600861451,0.4788883704235463,5.772232304379038,5.571256281407035,1.4492396267049534,6.427093539124192,0.0,0.0,0.0,0.0,0.0,0.0,0.0,0.0,0.0,0.0,0.0,3.003878607322326,1.9457315865039482,9.669275807609475,0.11111148600143575,0.008461091170136395,0.0025169418521177314,7.608529073941135,0.993026633165829,0.32459605168700645,0.07206848528356066,32.259369131371145,530.4522910265614,2.103800789662599,28.503602727925344,0.34113115577889447,9.190090093323763,0.10346640344580042,5.582218808327351,16.434664106245513,0.5000493898061737,0.015365613783201722,0.003858291457286433,3.078235032304379,0.021742928930366112,0.016454127781765974,0.005278822684852835,98.08861076812634,0.07106963388370424],\"xaxis\":\"x\",\"yaxis\":\"y\",\"type\":\"histogram\"}],                        {\"template\":{\"data\":{\"bar\":[{\"error_x\":{\"color\":\"#2a3f5f\"},\"error_y\":{\"color\":\"#2a3f5f\"},\"marker\":{\"line\":{\"color\":\"#E5ECF6\",\"width\":0.5},\"pattern\":{\"fillmode\":\"overlay\",\"size\":10,\"solidity\":0.2}},\"type\":\"bar\"}],\"barpolar\":[{\"marker\":{\"line\":{\"color\":\"#E5ECF6\",\"width\":0.5},\"pattern\":{\"fillmode\":\"overlay\",\"size\":10,\"solidity\":0.2}},\"type\":\"barpolar\"}],\"carpet\":[{\"aaxis\":{\"endlinecolor\":\"#2a3f5f\",\"gridcolor\":\"white\",\"linecolor\":\"white\",\"minorgridcolor\":\"white\",\"startlinecolor\":\"#2a3f5f\"},\"baxis\":{\"endlinecolor\":\"#2a3f5f\",\"gridcolor\":\"white\",\"linecolor\":\"white\",\"minorgridcolor\":\"white\",\"startlinecolor\":\"#2a3f5f\"},\"type\":\"carpet\"}],\"choropleth\":[{\"colorbar\":{\"outlinewidth\":0,\"ticks\":\"\"},\"type\":\"choropleth\"}],\"contour\":[{\"colorbar\":{\"outlinewidth\":0,\"ticks\":\"\"},\"colorscale\":[[0.0,\"#0d0887\"],[0.1111111111111111,\"#46039f\"],[0.2222222222222222,\"#7201a8\"],[0.3333333333333333,\"#9c179e\"],[0.4444444444444444,\"#bd3786\"],[0.5555555555555556,\"#d8576b\"],[0.6666666666666666,\"#ed7953\"],[0.7777777777777778,\"#fb9f3a\"],[0.8888888888888888,\"#fdca26\"],[1.0,\"#f0f921\"]],\"type\":\"contour\"}],\"contourcarpet\":[{\"colorbar\":{\"outlinewidth\":0,\"ticks\":\"\"},\"type\":\"contourcarpet\"}],\"heatmap\":[{\"colorbar\":{\"outlinewidth\":0,\"ticks\":\"\"},\"colorscale\":[[0.0,\"#0d0887\"],[0.1111111111111111,\"#46039f\"],[0.2222222222222222,\"#7201a8\"],[0.3333333333333333,\"#9c179e\"],[0.4444444444444444,\"#bd3786\"],[0.5555555555555556,\"#d8576b\"],[0.6666666666666666,\"#ed7953\"],[0.7777777777777778,\"#fb9f3a\"],[0.8888888888888888,\"#fdca26\"],[1.0,\"#f0f921\"]],\"type\":\"heatmap\"}],\"heatmapgl\":[{\"colorbar\":{\"outlinewidth\":0,\"ticks\":\"\"},\"colorscale\":[[0.0,\"#0d0887\"],[0.1111111111111111,\"#46039f\"],[0.2222222222222222,\"#7201a8\"],[0.3333333333333333,\"#9c179e\"],[0.4444444444444444,\"#bd3786\"],[0.5555555555555556,\"#d8576b\"],[0.6666666666666666,\"#ed7953\"],[0.7777777777777778,\"#fb9f3a\"],[0.8888888888888888,\"#fdca26\"],[1.0,\"#f0f921\"]],\"type\":\"heatmapgl\"}],\"histogram\":[{\"marker\":{\"pattern\":{\"fillmode\":\"overlay\",\"size\":10,\"solidity\":0.2}},\"type\":\"histogram\"}],\"histogram2d\":[{\"colorbar\":{\"outlinewidth\":0,\"ticks\":\"\"},\"colorscale\":[[0.0,\"#0d0887\"],[0.1111111111111111,\"#46039f\"],[0.2222222222222222,\"#7201a8\"],[0.3333333333333333,\"#9c179e\"],[0.4444444444444444,\"#bd3786\"],[0.5555555555555556,\"#d8576b\"],[0.6666666666666666,\"#ed7953\"],[0.7777777777777778,\"#fb9f3a\"],[0.8888888888888888,\"#fdca26\"],[1.0,\"#f0f921\"]],\"type\":\"histogram2d\"}],\"histogram2dcontour\":[{\"colorbar\":{\"outlinewidth\":0,\"ticks\":\"\"},\"colorscale\":[[0.0,\"#0d0887\"],[0.1111111111111111,\"#46039f\"],[0.2222222222222222,\"#7201a8\"],[0.3333333333333333,\"#9c179e\"],[0.4444444444444444,\"#bd3786\"],[0.5555555555555556,\"#d8576b\"],[0.6666666666666666,\"#ed7953\"],[0.7777777777777778,\"#fb9f3a\"],[0.8888888888888888,\"#fdca26\"],[1.0,\"#f0f921\"]],\"type\":\"histogram2dcontour\"}],\"mesh3d\":[{\"colorbar\":{\"outlinewidth\":0,\"ticks\":\"\"},\"type\":\"mesh3d\"}],\"parcoords\":[{\"line\":{\"colorbar\":{\"outlinewidth\":0,\"ticks\":\"\"}},\"type\":\"parcoords\"}],\"pie\":[{\"automargin\":true,\"type\":\"pie\"}],\"scatter\":[{\"marker\":{\"colorbar\":{\"outlinewidth\":0,\"ticks\":\"\"}},\"type\":\"scatter\"}],\"scatter3d\":[{\"line\":{\"colorbar\":{\"outlinewidth\":0,\"ticks\":\"\"}},\"marker\":{\"colorbar\":{\"outlinewidth\":0,\"ticks\":\"\"}},\"type\":\"scatter3d\"}],\"scattercarpet\":[{\"marker\":{\"colorbar\":{\"outlinewidth\":0,\"ticks\":\"\"}},\"type\":\"scattercarpet\"}],\"scattergeo\":[{\"marker\":{\"colorbar\":{\"outlinewidth\":0,\"ticks\":\"\"}},\"type\":\"scattergeo\"}],\"scattergl\":[{\"marker\":{\"colorbar\":{\"outlinewidth\":0,\"ticks\":\"\"}},\"type\":\"scattergl\"}],\"scattermapbox\":[{\"marker\":{\"colorbar\":{\"outlinewidth\":0,\"ticks\":\"\"}},\"type\":\"scattermapbox\"}],\"scatterpolar\":[{\"marker\":{\"colorbar\":{\"outlinewidth\":0,\"ticks\":\"\"}},\"type\":\"scatterpolar\"}],\"scatterpolargl\":[{\"marker\":{\"colorbar\":{\"outlinewidth\":0,\"ticks\":\"\"}},\"type\":\"scatterpolargl\"}],\"scatterternary\":[{\"marker\":{\"colorbar\":{\"outlinewidth\":0,\"ticks\":\"\"}},\"type\":\"scatterternary\"}],\"surface\":[{\"colorbar\":{\"outlinewidth\":0,\"ticks\":\"\"},\"colorscale\":[[0.0,\"#0d0887\"],[0.1111111111111111,\"#46039f\"],[0.2222222222222222,\"#7201a8\"],[0.3333333333333333,\"#9c179e\"],[0.4444444444444444,\"#bd3786\"],[0.5555555555555556,\"#d8576b\"],[0.6666666666666666,\"#ed7953\"],[0.7777777777777778,\"#fb9f3a\"],[0.8888888888888888,\"#fdca26\"],[1.0,\"#f0f921\"]],\"type\":\"surface\"}],\"table\":[{\"cells\":{\"fill\":{\"color\":\"#EBF0F8\"},\"line\":{\"color\":\"white\"}},\"header\":{\"fill\":{\"color\":\"#C8D4E3\"},\"line\":{\"color\":\"white\"}},\"type\":\"table\"}]},\"layout\":{\"annotationdefaults\":{\"arrowcolor\":\"#2a3f5f\",\"arrowhead\":0,\"arrowwidth\":1},\"autotypenumbers\":\"strict\",\"coloraxis\":{\"colorbar\":{\"outlinewidth\":0,\"ticks\":\"\"}},\"colorscale\":{\"diverging\":[[0,\"#8e0152\"],[0.1,\"#c51b7d\"],[0.2,\"#de77ae\"],[0.3,\"#f1b6da\"],[0.4,\"#fde0ef\"],[0.5,\"#f7f7f7\"],[0.6,\"#e6f5d0\"],[0.7,\"#b8e186\"],[0.8,\"#7fbc41\"],[0.9,\"#4d9221\"],[1,\"#276419\"]],\"sequential\":[[0.0,\"#0d0887\"],[0.1111111111111111,\"#46039f\"],[0.2222222222222222,\"#7201a8\"],[0.3333333333333333,\"#9c179e\"],[0.4444444444444444,\"#bd3786\"],[0.5555555555555556,\"#d8576b\"],[0.6666666666666666,\"#ed7953\"],[0.7777777777777778,\"#fb9f3a\"],[0.8888888888888888,\"#fdca26\"],[1.0,\"#f0f921\"]],\"sequentialminus\":[[0.0,\"#0d0887\"],[0.1111111111111111,\"#46039f\"],[0.2222222222222222,\"#7201a8\"],[0.3333333333333333,\"#9c179e\"],[0.4444444444444444,\"#bd3786\"],[0.5555555555555556,\"#d8576b\"],[0.6666666666666666,\"#ed7953\"],[0.7777777777777778,\"#fb9f3a\"],[0.8888888888888888,\"#fdca26\"],[1.0,\"#f0f921\"]]},\"colorway\":[\"#636efa\",\"#EF553B\",\"#00cc96\",\"#ab63fa\",\"#FFA15A\",\"#19d3f3\",\"#FF6692\",\"#B6E880\",\"#FF97FF\",\"#FECB52\"],\"font\":{\"color\":\"#2a3f5f\"},\"geo\":{\"bgcolor\":\"white\",\"lakecolor\":\"white\",\"landcolor\":\"#E5ECF6\",\"showlakes\":true,\"showland\":true,\"subunitcolor\":\"white\"},\"hoverlabel\":{\"align\":\"left\"},\"hovermode\":\"closest\",\"mapbox\":{\"style\":\"light\"},\"paper_bgcolor\":\"white\",\"plot_bgcolor\":\"#E5ECF6\",\"polar\":{\"angularaxis\":{\"gridcolor\":\"white\",\"linecolor\":\"white\",\"ticks\":\"\"},\"bgcolor\":\"#E5ECF6\",\"radialaxis\":{\"gridcolor\":\"white\",\"linecolor\":\"white\",\"ticks\":\"\"}},\"scene\":{\"xaxis\":{\"backgroundcolor\":\"#E5ECF6\",\"gridcolor\":\"white\",\"gridwidth\":2,\"linecolor\":\"white\",\"showbackground\":true,\"ticks\":\"\",\"zerolinecolor\":\"white\"},\"yaxis\":{\"backgroundcolor\":\"#E5ECF6\",\"gridcolor\":\"white\",\"gridwidth\":2,\"linecolor\":\"white\",\"showbackground\":true,\"ticks\":\"\",\"zerolinecolor\":\"white\"},\"zaxis\":{\"backgroundcolor\":\"#E5ECF6\",\"gridcolor\":\"white\",\"gridwidth\":2,\"linecolor\":\"white\",\"showbackground\":true,\"ticks\":\"\",\"zerolinecolor\":\"white\"}},\"shapedefaults\":{\"line\":{\"color\":\"#2a3f5f\"}},\"ternary\":{\"aaxis\":{\"gridcolor\":\"white\",\"linecolor\":\"white\",\"ticks\":\"\"},\"baxis\":{\"gridcolor\":\"white\",\"linecolor\":\"white\",\"ticks\":\"\"},\"bgcolor\":\"#E5ECF6\",\"caxis\":{\"gridcolor\":\"white\",\"linecolor\":\"white\",\"ticks\":\"\"}},\"title\":{\"x\":0.05},\"xaxis\":{\"automargin\":true,\"gridcolor\":\"white\",\"linecolor\":\"white\",\"ticks\":\"\",\"title\":{\"standoff\":15},\"zerolinecolor\":\"white\",\"zerolinewidth\":2},\"yaxis\":{\"automargin\":true,\"gridcolor\":\"white\",\"linecolor\":\"white\",\"ticks\":\"\",\"title\":{\"standoff\":15},\"zerolinecolor\":\"white\",\"zerolinewidth\":2}}},\"xaxis\":{\"anchor\":\"y\",\"domain\":[0.0,1.0],\"title\":{\"text\":\"value\"}},\"yaxis\":{\"anchor\":\"x\",\"domain\":[0.0,1.0],\"title\":{\"text\":\"count\"}},\"legend\":{\"title\":{\"text\":\"variable\"},\"tracegroupgap\":0},\"title\":{\"text\":\"Mean\"},\"barmode\":\"relative\"},                        {\"responsive\": true}                    ).then(function(){\n",
              "                            \n",
              "var gd = document.getElementById('40f5bc7d-5323-407e-97f5-cb723c3b7efc');\n",
              "var x = new MutationObserver(function (mutations, observer) {{\n",
              "        var display = window.getComputedStyle(gd).display;\n",
              "        if (!display || display === 'none') {{\n",
              "            console.log([gd, 'removed!']);\n",
              "            Plotly.purge(gd);\n",
              "            observer.disconnect();\n",
              "        }}\n",
              "}});\n",
              "\n",
              "// Listen for the removal of the full notebook cells\n",
              "var notebookContainer = gd.closest('#notebook-container');\n",
              "if (notebookContainer) {{\n",
              "    x.observe(notebookContainer, {childList: true});\n",
              "}}\n",
              "\n",
              "// Listen for the clearing of the current output cell\n",
              "var outputEl = gd.closest('.output');\n",
              "if (outputEl) {{\n",
              "    x.observe(outputEl, {childList: true});\n",
              "}}\n",
              "\n",
              "                        })                };                            </script>        </div>\n",
              "</body>\n",
              "</html>"
            ]
          },
          "metadata": {}
        },
        {
          "output_type": "stream",
          "name": "stdout",
          "text": [
            "\n",
            "\n",
            "Standard Deviation:\n",
            "\n",
            " 0             74.195555\n",
            "1             81.555556\n",
            "2             29.825001\n",
            "3            415.755060\n",
            "4             42.128656\n",
            "                ...    \n",
            "586            0.012602\n",
            "587            0.008801\n",
            "588            0.002865\n",
            "589           92.838412\n",
            "Pass/Fail      0.257033\n",
            "Length: 539, dtype: float64 \n",
            "\n"
          ]
        },
        {
          "output_type": "display_data",
          "data": {
            "text/html": [
              "<html>\n",
              "<head><meta charset=\"utf-8\" /></head>\n",
              "<body>\n",
              "    <div>            <script src=\"https://cdnjs.cloudflare.com/ajax/libs/mathjax/2.7.5/MathJax.js?config=TeX-AMS-MML_SVG\"></script><script type=\"text/javascript\">if (window.MathJax) {MathJax.Hub.Config({SVG: {font: \"STIX-Web\"}});}</script>                <script type=\"text/javascript\">window.PlotlyConfig = {MathJaxConfig: 'local'};</script>\n",
              "        <script src=\"https://cdn.plot.ly/plotly-2.8.3.min.js\"></script>                <div id=\"0a0c23e4-3911-4ccf-b9c6-97bd414be6c0\" class=\"plotly-graph-div\" style=\"height:525px; width:100%;\"></div>            <script type=\"text/javascript\">                                    window.PLOTLYENV=window.PLOTLYENV || {};                                    if (document.getElementById(\"0a0c23e4-3911-4ccf-b9c6-97bd414be6c0\")) {                    Plotly.newPlot(                        \"0a0c23e4-3911-4ccf-b9c6-97bd414be6c0\",                        [{\"alignmentgroup\":\"True\",\"bingroup\":\"x\",\"hovertemplate\":\"variable=0<br>value=%{x}<br>count=%{y}<extra></extra>\",\"legendgroup\":\"0\",\"marker\":{\"color\":\"#636efa\",\"pattern\":{\"shape\":\"\"}},\"name\":\"0\",\"offsetgroup\":\"0\",\"orientation\":\"v\",\"showlegend\":true,\"x\":[74.19555459409492,81.55555632499565,29.82500069091118,415.7550599799737,42.1286556578434,0.0,5.900409398375119,0.004997651598825888,0.07269551830934531,0.015068574621712462,0.009342848681107923,0.012842149655107995,3.273384857488964,0.0,2.7540604669163153,17.9975101936798,2.5432372774762357,0.01259035428142651,2.738694863921132,0.20623618516522982,0.016858813339975555,625.9818126449464,297.9374600513523,1395.0566067847535,2946.1520768536566,0.17812471684046732,0.19059248451751643,1.2376872933317624,3.4754921797804883,0.412063652784989,0.03311598063146009,0.5355479383015133,2.1230405613259182,1.4101254742005664,1.2238745419683215,2.69736712882991,1.2238750151442512,0.29918784665427,0.4489518933776687,1.8211532053327575,24.04308178013212,2.285451948764343,0.0,6.136737414023087,0.17442842896379435,7.7793235467795245,12.184307526069952,0.18967437098015835,4.497609678057218,0.0,8.683239856964468,61.436656698787246,0.0,0.050560297851172234,0.056105747371831355,25.13005339740088,0.006422328295566047,0.004100524331509505,0.08379807159094751,9.689891922461834,5.990560509257279,0.27003529248251873,8.622434868373396,7.217035817838138,4.988691229861804,7.185896578013023,11.522047507534207,325.4784946785871,4.308674354291869,0.0,9.402920324166498,31.42862194452501,0.1124108332924064,0.022424025293708585,0.033093349322368584,0.03150100172663172,0.04888808696012377,0.023212681623594494,0.04962924386508635,0.017104952470162752,0.03571257932117206,0.5166296464614603,0.0050784407425675925,0.03745857778966443,0.013278803032626432,53.787753114605486,0.054239055836596196,395.7240158136195,0.08495639402490858,0.003274432318802996,0.0030647780148570056,0.0001759182890786013,0.00010649119152609436,0.2213198660192158,0.0,0.42657163001488807,0.0637638129372897,0.00036159458460014224,0.00022106701632430237,0.062829755817368,0.003100862739122357,0.0008648047946243368,0.0032406254837996857,0.0030380197691584434,0.08731827467135793,0.08497000788093119,0.012287674936843537,0.001763615130797797,48.88670707908945,0.009610279559605434,6.868075206210533,0.007981444433059263,0.009138446634206354,0.1236791555830081,0.09729784945521854,0.8903820004492996,0.1078712275790125,0.1125108975586837,0.27946493733302624,0.25685858727375305,0.13295056278170125,0.2682943657416966,1.2407441856811159,0.08093191868903801,0.0022903186885293507,0.05372418867830639,6.345212122345851,2.9298334469488574,53.48681819829658,53.79170352394445,52.28759780944264,12.019358458529315,259.50252198222034,378.6868849226529,0.0,3.385986816744624,0.0012105841959643463,0.06008941738350553,0.026458635661916034,0.02206320366277577,0.028649623940233647,19.843495135884247,0.0,3.230421983145705,30.517925505950508,24.755980888102187,0.009765429551521723,5.483473538345677,1.1018439222838874,0.08350124834322199,964.9756834898548,573.3862141673776,4311.56238311465,6528.515506773918,0.11867587909299125,0.23601451796265327,0.3939105351676546,1.1390053633821062,0.6482553436992387,0.04784330104511514,0.1971596155649115,0.1554844184248752,0.06125569696075648,0.07149568257745738,0.09596724829049151,0.07150012068309065,0.11569572300808292,0.07550610719273966,0.28688505925237023,0.0,0.0,3.2688033243340064,0.21255331526050075,4.169347355498593,6.663876890423469,0.08003608166914886,2.9337597885923627,0.0,4.520723513858535,21.48645481171094,0.0,0.0,0.0,0.0,0.0,0.0,0.3150212094398728,16.579394769564058,11.071865361571323,0.560233877451299,17.215337805612766,9.039789431790757,5.257340905178149,15.396024604189845,18.304816354110987,598.1149448378903,12.167855202787019,0.05358638221542434,18.41993076627219,28.017705537383986,1.236505769620916,0.04334178929876781,0.02499773864812801,0.032073841768640234,0.05520354158278261,0.05475297503121409,0.030728040913314682,0.025413184725388595,0.047200193612729556,1.175129015034907,0.0015461715022905128,0.023429954783952482,0.05921749015219928,57.212022445573716,0.07136179041185338,435.67655598315696,0.0,0.011002339361109502,0.010840347196293499,0.0,0.0,0.0,0.0,0.0,0.0,0.0,0.0,0.0,0.0016856707500767106,0.0013545579407659878,0.0,0.0,0.0,0.0,0.052081836170013995,0.016668816809759807,55.61573753854943,0.039688122830288046,68.25467077334913,0.023257774671873885,0.009036458487630166,0.12172376270999463,0.0,0.0,0.0,0.0,0.0,0.0,0.0,0.0,0.0,0.0,0.0,0.029548591654384834,7.3455715464196,1.162791424157046,7.868736481569329,17.886942592808886,17.74837233671632,3.6976866860075046,83.75721621700359,126.20669071489078,0.0,1.0655782935359983,0.0003260348362153786,0.01998365576409504,0.006418976247730827,0.005586384582358775,0.009029153051093851,6.209899732989407,0.0,0.9549415795053657,9.73048368478557,7.826389479579905,0.003063852849637042,1.6925153356190228,0.27119646925753516,0.02692890348922354,466.47247117508755,282.1843023114673,2005.2513953563569,3229.0648249750075,0.062054777403900085,0.12637197702721809,0.21037298512817085,0.336158243890655,0.2025990779360502,0.014630692953732878,0.0645548257235935,0.05671372801435979,0.02568402959391277,0.02751833624060568,0.033785112128577335,0.0275210863592548,0.04342754648323057,0.02899355441745776,0.11898817114552414,0.0,0.0,0.0,0.9924987776319771,0.06994263733090132,1.2135345120172882,2.1278448082053174,0.022883797225607017,0.8561275899581813,0.0,1.3621148484916612,6.549580965833628,0.0,0.0,0.0,0.0,0.0,0.0,0.05596954630982548,5.962093333278761,3.57693200450783,0.180214441280717,6.077434057629034,7.677615634285789,1.766383677155424,5.959365973713735,6.37530931973602,277.0310258903856,3.871453034360199,0.011981915063368879,5.653238972282114,8.879506925590348,0.3728192163064824,0.01225004108156663,0.01057298640065362,0.014576022555582747,0.02556720983102099,0.012967037020216987,0.01563715503699644,0.013028242768334709,0.022581503987335324,0.38844329875853145,0.0004612935506791497,0.00715368268890107,0.021184327349477308,17.699212357161503,0.02167809309546459,139.42385557810815,0.0,0.002726245053410349,0.0023808274716391378,0.00276673655881738,0.0021248589454832124,0.0,0.0,0.0,0.0,0.0,0.0,0.0,0.0005316086178013381,0.0004395050915699625,0.0,0.0,0.0,0.0,0.016377675202318382,0.005273436093819194,17.52918471713066,0.012516578260191525,21.558240405167588,0.006973149020114728,0.0029342497549702667,0.03882178446064866,0.0,0.0,0.0,0.0,0.0,0.0,0.0,0.0,0.0,0.0,0.0,0.010711981773159967,2.839065239042486,0.3682106603899521,2.39726463657365,1.7725740776062662,2.12788297564293,0.5369201801060963,18.65409270731734,36.85877785558934,0.0,3.7205593887590767,0.9811619985552198,3.9666625186833064,287.36986389725314,324.07109500913316,3.2310535404835066,7.314707244662785,0.0,33.14925262205633,6.1289587102512355,24.594370926337167,1.0408256008827481,3.1913588288456234,10.340882760333772,6.795409304601816,36.22912083459697,36.56216183054222,129.89980818835497,229.65297299829086,34.40797963183323,34.72143249499472,34.89295474231369,1.6484734744110974,35.14977134952688,39.53079230001932,6.138328081749065,0.18194265889526223,0.6615836317442123,0.14420893697545023,0.156439741666526,0.14156984884742568,0.1751556811963696,0.08712731592155025,0.23941080480807048,0.0,0.0,0.0,0.9085144886106002,2.145316018999729,3.055245684794556,0.913978198474098,6.095525059093603,2.1531357756537406,0.0,0.722021710297798,13.088758582562575,0.0,0.0,0.0,0.0,0.0,0.0,7.018353224766345,230.87269120191434,3.311386515191193,5.179174617615299,10.556912174315197,47.306121503841744,22.71281196083752,25.408243008906954,2.7397276124098795,15.35049779755972,10.754640625401445,5.358638221542431,2.775580228300449,36.13948825690676,0.0,281.98355958652417,188.2401626493244,215.9017333288744,217.9734490651168,284.89665143272435,263.03972498432853,252.64476225452998,228.88116719572105,18.160221194224047,1.1498670311400738,0.979411175191388,7.0059005385191355,3.38784004775752,23.796804426291356,4.9826313958077675,0.0,322.81924931038105,320.9007942116823,0.0,0.0,0.0,0.0,0.0,0.0,0.0,0.0,0.0,37.9498104494295,329.98612200520245,0.0,0.0,0.0,0.0,6.034217051293166,106.04032567527551,7.212927344441131,4.393496161697784,21.907771414072226,4.070045987198144,0.9495011933271835,1.9105336906527315,0.0,0.0,0.0,0.0,0.0,0.0,0.0,0.0,0.0,0.0,0.0,1.245384223002722,0.7322940626177807,2.90220503646602,0.002701457171705338,0.0015429835494196753,0.00029363478700484945,1.320270580883892,0.08183997790890722,0.2002852125258529,0.050870121179434076,19.023047742739653,18.158038160758732,0.2792720623431754,85.974970300678,0.24312503406588892,26.861207243990087,0.0664426211258246,16.870332920384744,12.336506821459185,0.003426160972514269,0.018123868234586057,0.003929609338095721,3.776211151969705,0.012601780253326715,0.008801221945483485,0.0028649292970859015,92.838411545232,0.25703339915237233],\"xaxis\":\"x\",\"yaxis\":\"y\",\"type\":\"histogram\"}],                        {\"template\":{\"data\":{\"bar\":[{\"error_x\":{\"color\":\"#2a3f5f\"},\"error_y\":{\"color\":\"#2a3f5f\"},\"marker\":{\"line\":{\"color\":\"#E5ECF6\",\"width\":0.5},\"pattern\":{\"fillmode\":\"overlay\",\"size\":10,\"solidity\":0.2}},\"type\":\"bar\"}],\"barpolar\":[{\"marker\":{\"line\":{\"color\":\"#E5ECF6\",\"width\":0.5},\"pattern\":{\"fillmode\":\"overlay\",\"size\":10,\"solidity\":0.2}},\"type\":\"barpolar\"}],\"carpet\":[{\"aaxis\":{\"endlinecolor\":\"#2a3f5f\",\"gridcolor\":\"white\",\"linecolor\":\"white\",\"minorgridcolor\":\"white\",\"startlinecolor\":\"#2a3f5f\"},\"baxis\":{\"endlinecolor\":\"#2a3f5f\",\"gridcolor\":\"white\",\"linecolor\":\"white\",\"minorgridcolor\":\"white\",\"startlinecolor\":\"#2a3f5f\"},\"type\":\"carpet\"}],\"choropleth\":[{\"colorbar\":{\"outlinewidth\":0,\"ticks\":\"\"},\"type\":\"choropleth\"}],\"contour\":[{\"colorbar\":{\"outlinewidth\":0,\"ticks\":\"\"},\"colorscale\":[[0.0,\"#0d0887\"],[0.1111111111111111,\"#46039f\"],[0.2222222222222222,\"#7201a8\"],[0.3333333333333333,\"#9c179e\"],[0.4444444444444444,\"#bd3786\"],[0.5555555555555556,\"#d8576b\"],[0.6666666666666666,\"#ed7953\"],[0.7777777777777778,\"#fb9f3a\"],[0.8888888888888888,\"#fdca26\"],[1.0,\"#f0f921\"]],\"type\":\"contour\"}],\"contourcarpet\":[{\"colorbar\":{\"outlinewidth\":0,\"ticks\":\"\"},\"type\":\"contourcarpet\"}],\"heatmap\":[{\"colorbar\":{\"outlinewidth\":0,\"ticks\":\"\"},\"colorscale\":[[0.0,\"#0d0887\"],[0.1111111111111111,\"#46039f\"],[0.2222222222222222,\"#7201a8\"],[0.3333333333333333,\"#9c179e\"],[0.4444444444444444,\"#bd3786\"],[0.5555555555555556,\"#d8576b\"],[0.6666666666666666,\"#ed7953\"],[0.7777777777777778,\"#fb9f3a\"],[0.8888888888888888,\"#fdca26\"],[1.0,\"#f0f921\"]],\"type\":\"heatmap\"}],\"heatmapgl\":[{\"colorbar\":{\"outlinewidth\":0,\"ticks\":\"\"},\"colorscale\":[[0.0,\"#0d0887\"],[0.1111111111111111,\"#46039f\"],[0.2222222222222222,\"#7201a8\"],[0.3333333333333333,\"#9c179e\"],[0.4444444444444444,\"#bd3786\"],[0.5555555555555556,\"#d8576b\"],[0.6666666666666666,\"#ed7953\"],[0.7777777777777778,\"#fb9f3a\"],[0.8888888888888888,\"#fdca26\"],[1.0,\"#f0f921\"]],\"type\":\"heatmapgl\"}],\"histogram\":[{\"marker\":{\"pattern\":{\"fillmode\":\"overlay\",\"size\":10,\"solidity\":0.2}},\"type\":\"histogram\"}],\"histogram2d\":[{\"colorbar\":{\"outlinewidth\":0,\"ticks\":\"\"},\"colorscale\":[[0.0,\"#0d0887\"],[0.1111111111111111,\"#46039f\"],[0.2222222222222222,\"#7201a8\"],[0.3333333333333333,\"#9c179e\"],[0.4444444444444444,\"#bd3786\"],[0.5555555555555556,\"#d8576b\"],[0.6666666666666666,\"#ed7953\"],[0.7777777777777778,\"#fb9f3a\"],[0.8888888888888888,\"#fdca26\"],[1.0,\"#f0f921\"]],\"type\":\"histogram2d\"}],\"histogram2dcontour\":[{\"colorbar\":{\"outlinewidth\":0,\"ticks\":\"\"},\"colorscale\":[[0.0,\"#0d0887\"],[0.1111111111111111,\"#46039f\"],[0.2222222222222222,\"#7201a8\"],[0.3333333333333333,\"#9c179e\"],[0.4444444444444444,\"#bd3786\"],[0.5555555555555556,\"#d8576b\"],[0.6666666666666666,\"#ed7953\"],[0.7777777777777778,\"#fb9f3a\"],[0.8888888888888888,\"#fdca26\"],[1.0,\"#f0f921\"]],\"type\":\"histogram2dcontour\"}],\"mesh3d\":[{\"colorbar\":{\"outlinewidth\":0,\"ticks\":\"\"},\"type\":\"mesh3d\"}],\"parcoords\":[{\"line\":{\"colorbar\":{\"outlinewidth\":0,\"ticks\":\"\"}},\"type\":\"parcoords\"}],\"pie\":[{\"automargin\":true,\"type\":\"pie\"}],\"scatter\":[{\"marker\":{\"colorbar\":{\"outlinewidth\":0,\"ticks\":\"\"}},\"type\":\"scatter\"}],\"scatter3d\":[{\"line\":{\"colorbar\":{\"outlinewidth\":0,\"ticks\":\"\"}},\"marker\":{\"colorbar\":{\"outlinewidth\":0,\"ticks\":\"\"}},\"type\":\"scatter3d\"}],\"scattercarpet\":[{\"marker\":{\"colorbar\":{\"outlinewidth\":0,\"ticks\":\"\"}},\"type\":\"scattercarpet\"}],\"scattergeo\":[{\"marker\":{\"colorbar\":{\"outlinewidth\":0,\"ticks\":\"\"}},\"type\":\"scattergeo\"}],\"scattergl\":[{\"marker\":{\"colorbar\":{\"outlinewidth\":0,\"ticks\":\"\"}},\"type\":\"scattergl\"}],\"scattermapbox\":[{\"marker\":{\"colorbar\":{\"outlinewidth\":0,\"ticks\":\"\"}},\"type\":\"scattermapbox\"}],\"scatterpolar\":[{\"marker\":{\"colorbar\":{\"outlinewidth\":0,\"ticks\":\"\"}},\"type\":\"scatterpolar\"}],\"scatterpolargl\":[{\"marker\":{\"colorbar\":{\"outlinewidth\":0,\"ticks\":\"\"}},\"type\":\"scatterpolargl\"}],\"scatterternary\":[{\"marker\":{\"colorbar\":{\"outlinewidth\":0,\"ticks\":\"\"}},\"type\":\"scatterternary\"}],\"surface\":[{\"colorbar\":{\"outlinewidth\":0,\"ticks\":\"\"},\"colorscale\":[[0.0,\"#0d0887\"],[0.1111111111111111,\"#46039f\"],[0.2222222222222222,\"#7201a8\"],[0.3333333333333333,\"#9c179e\"],[0.4444444444444444,\"#bd3786\"],[0.5555555555555556,\"#d8576b\"],[0.6666666666666666,\"#ed7953\"],[0.7777777777777778,\"#fb9f3a\"],[0.8888888888888888,\"#fdca26\"],[1.0,\"#f0f921\"]],\"type\":\"surface\"}],\"table\":[{\"cells\":{\"fill\":{\"color\":\"#EBF0F8\"},\"line\":{\"color\":\"white\"}},\"header\":{\"fill\":{\"color\":\"#C8D4E3\"},\"line\":{\"color\":\"white\"}},\"type\":\"table\"}]},\"layout\":{\"annotationdefaults\":{\"arrowcolor\":\"#2a3f5f\",\"arrowhead\":0,\"arrowwidth\":1},\"autotypenumbers\":\"strict\",\"coloraxis\":{\"colorbar\":{\"outlinewidth\":0,\"ticks\":\"\"}},\"colorscale\":{\"diverging\":[[0,\"#8e0152\"],[0.1,\"#c51b7d\"],[0.2,\"#de77ae\"],[0.3,\"#f1b6da\"],[0.4,\"#fde0ef\"],[0.5,\"#f7f7f7\"],[0.6,\"#e6f5d0\"],[0.7,\"#b8e186\"],[0.8,\"#7fbc41\"],[0.9,\"#4d9221\"],[1,\"#276419\"]],\"sequential\":[[0.0,\"#0d0887\"],[0.1111111111111111,\"#46039f\"],[0.2222222222222222,\"#7201a8\"],[0.3333333333333333,\"#9c179e\"],[0.4444444444444444,\"#bd3786\"],[0.5555555555555556,\"#d8576b\"],[0.6666666666666666,\"#ed7953\"],[0.7777777777777778,\"#fb9f3a\"],[0.8888888888888888,\"#fdca26\"],[1.0,\"#f0f921\"]],\"sequentialminus\":[[0.0,\"#0d0887\"],[0.1111111111111111,\"#46039f\"],[0.2222222222222222,\"#7201a8\"],[0.3333333333333333,\"#9c179e\"],[0.4444444444444444,\"#bd3786\"],[0.5555555555555556,\"#d8576b\"],[0.6666666666666666,\"#ed7953\"],[0.7777777777777778,\"#fb9f3a\"],[0.8888888888888888,\"#fdca26\"],[1.0,\"#f0f921\"]]},\"colorway\":[\"#636efa\",\"#EF553B\",\"#00cc96\",\"#ab63fa\",\"#FFA15A\",\"#19d3f3\",\"#FF6692\",\"#B6E880\",\"#FF97FF\",\"#FECB52\"],\"font\":{\"color\":\"#2a3f5f\"},\"geo\":{\"bgcolor\":\"white\",\"lakecolor\":\"white\",\"landcolor\":\"#E5ECF6\",\"showlakes\":true,\"showland\":true,\"subunitcolor\":\"white\"},\"hoverlabel\":{\"align\":\"left\"},\"hovermode\":\"closest\",\"mapbox\":{\"style\":\"light\"},\"paper_bgcolor\":\"white\",\"plot_bgcolor\":\"#E5ECF6\",\"polar\":{\"angularaxis\":{\"gridcolor\":\"white\",\"linecolor\":\"white\",\"ticks\":\"\"},\"bgcolor\":\"#E5ECF6\",\"radialaxis\":{\"gridcolor\":\"white\",\"linecolor\":\"white\",\"ticks\":\"\"}},\"scene\":{\"xaxis\":{\"backgroundcolor\":\"#E5ECF6\",\"gridcolor\":\"white\",\"gridwidth\":2,\"linecolor\":\"white\",\"showbackground\":true,\"ticks\":\"\",\"zerolinecolor\":\"white\"},\"yaxis\":{\"backgroundcolor\":\"#E5ECF6\",\"gridcolor\":\"white\",\"gridwidth\":2,\"linecolor\":\"white\",\"showbackground\":true,\"ticks\":\"\",\"zerolinecolor\":\"white\"},\"zaxis\":{\"backgroundcolor\":\"#E5ECF6\",\"gridcolor\":\"white\",\"gridwidth\":2,\"linecolor\":\"white\",\"showbackground\":true,\"ticks\":\"\",\"zerolinecolor\":\"white\"}},\"shapedefaults\":{\"line\":{\"color\":\"#2a3f5f\"}},\"ternary\":{\"aaxis\":{\"gridcolor\":\"white\",\"linecolor\":\"white\",\"ticks\":\"\"},\"baxis\":{\"gridcolor\":\"white\",\"linecolor\":\"white\",\"ticks\":\"\"},\"bgcolor\":\"#E5ECF6\",\"caxis\":{\"gridcolor\":\"white\",\"linecolor\":\"white\",\"ticks\":\"\"}},\"title\":{\"x\":0.05},\"xaxis\":{\"automargin\":true,\"gridcolor\":\"white\",\"linecolor\":\"white\",\"ticks\":\"\",\"title\":{\"standoff\":15},\"zerolinecolor\":\"white\",\"zerolinewidth\":2},\"yaxis\":{\"automargin\":true,\"gridcolor\":\"white\",\"linecolor\":\"white\",\"ticks\":\"\",\"title\":{\"standoff\":15},\"zerolinecolor\":\"white\",\"zerolinewidth\":2}}},\"xaxis\":{\"anchor\":\"y\",\"domain\":[0.0,1.0],\"title\":{\"text\":\"value\"}},\"yaxis\":{\"anchor\":\"x\",\"domain\":[0.0,1.0],\"title\":{\"text\":\"count\"}},\"legend\":{\"title\":{\"text\":\"variable\"},\"tracegroupgap\":0},\"title\":{\"text\":\"Standard Deviation\"},\"barmode\":\"relative\"},                        {\"responsive\": true}                    ).then(function(){\n",
              "                            \n",
              "var gd = document.getElementById('0a0c23e4-3911-4ccf-b9c6-97bd414be6c0');\n",
              "var x = new MutationObserver(function (mutations, observer) {{\n",
              "        var display = window.getComputedStyle(gd).display;\n",
              "        if (!display || display === 'none') {{\n",
              "            console.log([gd, 'removed!']);\n",
              "            Plotly.purge(gd);\n",
              "            observer.disconnect();\n",
              "        }}\n",
              "}});\n",
              "\n",
              "// Listen for the removal of the full notebook cells\n",
              "var notebookContainer = gd.closest('#notebook-container');\n",
              "if (notebookContainer) {{\n",
              "    x.observe(notebookContainer, {childList: true});\n",
              "}}\n",
              "\n",
              "// Listen for the clearing of the current output cell\n",
              "var outputEl = gd.closest('.output');\n",
              "if (outputEl) {{\n",
              "    x.observe(outputEl, {childList: true});\n",
              "}}\n",
              "\n",
              "                        })                };                            </script>        </div>\n",
              "</body>\n",
              "</html>"
            ]
          },
          "metadata": {}
        }
      ]
    },
    {
      "cell_type": "code",
      "source": [],
      "metadata": {
        "id": "2EzN1kPJLcaM"
      },
      "execution_count": null,
      "outputs": []
    }
  ]
}